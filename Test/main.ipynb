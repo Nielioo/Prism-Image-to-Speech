{
 "cells": [
  {
   "cell_type": "code",
   "execution_count": null,
   "metadata": {},
   "outputs": [],
   "source": [
    "# pip install opencv-python\n",
    "# pip install pytesseract\n",
    "# pip install googletrans==3.1.0a0\n",
    "# pip install gtts\n",
    "# pip install playsound"
   ]
  },
  {
   "cell_type": "code",
   "execution_count": 6,
   "metadata": {},
   "outputs": [],
   "source": [
    "import cv2\n",
    "import pytesseract\n",
    "\n",
    "from googletrans import Translator\n",
    "from gtts import gTTS\n",
    "\n",
    "from playsound import playsound\n",
    "import tkinter"
   ]
  },
  {
   "cell_type": "markdown",
   "metadata": {},
   "source": [
    "## Image to Text"
   ]
  },
  {
   "cell_type": "code",
   "execution_count": 4,
   "metadata": {},
   "outputs": [],
   "source": [
    "# program to capture single image from webcam in python\n",
    "\n",
    "# initialize the camera\n",
    "# If you have multiple camera connected with\n",
    "# current device, assign a value in cam_port\n",
    "# variable according to that\n",
    "cam_port = 0\n",
    "cam = cv2.VideoCapture(cam_port)\n",
    "\n",
    "# reading the input using the camera\n",
    "result, image = cam.read()\n",
    "\n",
    "# If image will detected without any error,\n",
    "# show result\n",
    "if result:\n",
    "\n",
    "    # showing result, it take frame name and image\n",
    "    # output\n",
    "    # cv2.imshow(\"image\", image)\n",
    "\n",
    "    # saving image in local storage\n",
    "    cv2.imwrite(\"image.png\", image)\n",
    "\n",
    "    # If keyboard interrupt occurs, destroy image\n",
    "    # window\n",
    "    # cv2.waitKey(0)\n",
    "    # cv2.destroyWindow(\"image\")\n",
    "\n",
    "# If captured image is corrupted, moving to else part\n",
    "else:\n",
    "    print(\"No image detected. Please! try again\")"
   ]
  },
  {
   "cell_type": "code",
   "execution_count": 5,
   "metadata": {},
   "outputs": [],
   "source": [
    "# camera off\n",
    "cam.release()"
   ]
  },
  {
   "cell_type": "code",
   "execution_count": 8,
   "metadata": {},
   "outputs": [
    {
     "name": "stdout",
     "output_type": "stream",
     "text": [
      "| Bowe\n",
      "\n",
      "One inbox.\n",
      "All your messages.\n",
      "\n",
      "\n"
     ]
    }
   ],
   "source": [
    "# Mention the installed location of Tesseract-OCR in your system\n",
    "pytesseract.pytesseract.tesseract_cmd = 'C:\\Program Files\\Tesseract-OCR\\\\tesseract'\n",
    "\n",
    "# Read image from which text needs to be extracted\n",
    "img = cv2.imread(\"temp4.png\")\n",
    "\n",
    "# Preprocessing the image starts\n",
    "\n",
    "# Convert the image to gray scale\n",
    "gray = cv2.cvtColor(img, cv2.COLOR_BGR2GRAY)\n",
    "\n",
    "# Performing OTSU threshold\n",
    "ret, thresh1 = cv2.threshold(\n",
    "    gray, 0, 255, cv2.THRESH_OTSU | cv2.THRESH_BINARY_INV)\n",
    "\n",
    "# Specify structure shape and kernel size.\n",
    "# Kernel size increases or decreases the area\n",
    "# of the rectangle to be detected.\n",
    "# A smaller value like (10, 10) will detect\n",
    "# each word instead of a sentence.\n",
    "rect_kernel = cv2.getStructuringElement(cv2.MORPH_RECT, (10, 10))\n",
    "\n",
    "# Applying dilation on the threshold image\n",
    "dilation = cv2.dilate(thresh1, rect_kernel, iterations=1)\n",
    "\n",
    "# Finding contours\n",
    "contours, hierarchy = cv2.findContours(dilation, cv2.RETR_EXTERNAL,\n",
    "                                       cv2.CHAIN_APPROX_NONE)\n",
    "\n",
    "# Creating a copy of image\n",
    "im2 = img.copy()\n",
    "\n",
    "# A text file is created and flushed\n",
    "file = open(\"recognized.txt\", \"w+\")\n",
    "file.write(\"\")\n",
    "file.close()\n",
    "\n",
    "# Looping through the identified contours\n",
    "# Then rectangular part is cropped and passed on\n",
    "# to pytesseract for extracting text from it\n",
    "# Extracted text is then written into the text file\n",
    "i = 0\n",
    "for cnt in contours:\n",
    "    x, y, w, h = cv2.boundingRect(cnt)\n",
    "\n",
    "    # Drawing a rectangle on copied image\n",
    "    rect = cv2.rectangle(im2, (x, y), (x + w, y + h), (0, 255, 0), 2)\n",
    "\n",
    "    # Cropping the text block for giving input to OCR\n",
    "    cropped = im2[y:y + h, x:x + w]\n",
    "    # cv2.imwrite(\"image\" + str(i) + \".png\", cnt)\n",
    "    # i += 1\n",
    "\n",
    "    # Open the file in append mode\n",
    "    file = open(\"recognized.txt\", \"a\")\n",
    "\n",
    "    # Apply OCR on the cropped image\n",
    "    text = pytesseract.image_to_string(cropped)\n",
    "    print(text)\n",
    "    # text = \"michael ganteng sekali kata daniel\"\n",
    "\n",
    "    # Appending the text into file\n",
    "    file.write(text)\n",
    "    file.write(\"\\n\")\n",
    "\n",
    "    # Close the file\n",
    "    file.close\n"
   ]
  },
  {
   "cell_type": "code",
   "execution_count": 9,
   "metadata": {},
   "outputs": [
    {
     "name": "stdout",
     "output_type": "stream",
     "text": [
      "| Bowe\n",
      "\n",
      "One inbox.\n",
      "All your messages.\n",
      "\n"
     ]
    }
   ],
   "source": [
    "img = cv2.imread(\"temp4.png\")\n",
    "\n",
    "text = pytesseract.image_to_string(img)\n",
    "print(text)"
   ]
  },
  {
   "cell_type": "code",
   "execution_count": 11,
   "metadata": {},
   "outputs": [
    {
     "name": "stdout",
     "output_type": "stream",
     "text": [
      "@ Texts\n",
      "\n",
      "One inbox.\n",
      "All your messages.\n",
      "\n"
     ]
    }
   ],
   "source": [
    "# Read image\n",
    "img = cv2.imread(\"temp4.png\")\n",
    "\n",
    "# Resize image\n",
    "img = cv2.resize(img, None, fx=1.2, fy=1.2, interpolation=cv2.INTER_CUBIC)\n",
    "\n",
    "# Grayscaling\n",
    "img = cv2.cvtColor(img, cv2.COLOR_BGR2GRAY)\n",
    "\n",
    "# Thresholding\n",
    "img = cv2.threshold(img, 0, 255, cv2.THRESH_BINARY + cv2.THRESH_OTSU)[1]\n",
    "\n",
    "# Dilate\n",
    "# rect_kernel = cv2.getStructuringElement(cv2.MORPH_RECT, (10, 10))\n",
    "# img = cv2.dilate(img, rect_kernel, iterations=1)\n",
    "\n",
    "# Inverse\n",
    "img = 255 - img\n",
    "\n",
    "text = pytesseract.image_to_string(img)\n",
    "print(text)"
   ]
  },
  {
   "cell_type": "markdown",
   "metadata": {},
   "source": [
    "## Text to Speech"
   ]
  },
  {
   "cell_type": "code",
   "execution_count": 28,
   "metadata": {},
   "outputs": [
    {
     "name": "stdout",
     "output_type": "stream",
     "text": [
      "en\n"
     ]
    }
   ],
   "source": [
    "translator = Translator()\n",
    "languange = translator.detect(text).lang\n",
    "print(languange)"
   ]
  },
  {
   "cell_type": "code",
   "execution_count": 33,
   "metadata": {},
   "outputs": [
    {
     "name": "stdout",
     "output_type": "stream",
     "text": [
      "Update\n",
      "\n",
      "Imagine your files structure are like this:\n",
      "\n",
      "\n",
      "You can also get the current folder path of your script and load your image from that.\n",
      "\n",
      "\n",
      "\n"
     ]
    }
   ],
   "source": [
    "text_file = open(\"recognized.txt\")\n",
    " \n",
    "data = text_file.read()\n",
    " \n",
    "text_file.close()\n",
    "\n",
    "print(data)"
   ]
  },
  {
   "cell_type": "code",
   "execution_count": 34,
   "metadata": {},
   "outputs": [
    {
     "data": {
      "text/plain": [
       "1"
      ]
     },
     "execution_count": 34,
     "metadata": {},
     "output_type": "execute_result"
    }
   ],
   "source": [
    "audio = gTTS(text=data, lang=languange, slow=False, tld=\"com\")\n",
    "\n",
    "audio.save(\"audio.mp3\")"
   ]
  },
  {
   "cell_type": "code",
   "execution_count": 4,
   "metadata": {},
   "outputs": [
    {
     "ename": "NameError",
     "evalue": "name 'tkinter' is not defined",
     "output_type": "error",
     "traceback": [
      "\u001b[1;31m---------------------------------------------------------------------------\u001b[0m",
      "\u001b[1;31mNameError\u001b[0m                                 Traceback (most recent call last)",
      "\u001b[1;32md:\\Bryan\\Document\\GitHub\\Prism-Image-to-Speech\\main.ipynb Cell 11'\u001b[0m in \u001b[0;36m<cell line: 1>\u001b[1;34m()\u001b[0m\n\u001b[1;32m----> <a href='vscode-notebook-cell:/d%3A/Bryan/Document/GitHub/Prism-Image-to-Speech/main.ipynb#ch0000018?line=0'>1</a>\u001b[0m root \u001b[39m=\u001b[39m tkinter\u001b[39m.\u001b[39mTk()\n\u001b[0;32m      <a href='vscode-notebook-cell:/d%3A/Bryan/Document/GitHub/Prism-Image-to-Speech/main.ipynb#ch0000018?line=1'>2</a>\u001b[0m root\u001b[39m.\u001b[39mtitle(\u001b[39m'\u001b[39m\u001b[39mGeeksforGeeks sound player\u001b[39m\u001b[39m'\u001b[39m)  \u001b[39m#giving the title for our window\u001b[39;00m\n\u001b[0;32m      <a href='vscode-notebook-cell:/d%3A/Bryan/Document/GitHub/Prism-Image-to-Speech/main.ipynb#ch0000018?line=2'>3</a>\u001b[0m root\u001b[39m.\u001b[39mgeometry(\u001b[39m\"\u001b[39m\u001b[39m500x400\u001b[39m\u001b[39m\"\u001b[39m)\n",
      "\u001b[1;31mNameError\u001b[0m: name 'tkinter' is not defined"
     ]
    }
   ],
   "source": [
    "root = tkinter.Tk()\n",
    "root.title('GeeksforGeeks sound player')  #giving the title for our window\n",
    "root.geometry(\"500x400\")\n",
    " \n",
    "# making function\n",
    "def play():\n",
    "    playsound('audio.mp3')\n",
    " \n",
    "# title on the screen you can modify it   \n",
    "title=tkinter.Label(root,text=\"GeeksforGeeks\",bd=9,relief=tkinter.GROOVE,\n",
    "            font=(\"times new roman\",50,\"bold\"),bg=\"white\",fg=\"green\")\n",
    "title.pack(side=tkinter.TOP,fill=tkinter.X)\n",
    " \n",
    "# making a button which trigger the function so sound can be playeed\n",
    "play_button = tkinter.Button(root, text=\"Play Song\", font=(\"Helvetica\", 32),\n",
    "                     relief=tkinter.GROOVE, command=play)\n",
    "play_button.pack(pady=20)\n",
    " \n",
    "info=tkinter.Label(root,text=\"Click on the button above to play song \",\n",
    "           font=(\"times new roman\",10,\"bold\")).pack(pady=20)\n",
    "root.mainloop()"
   ]
  }
 ],
 "metadata": {
  "interpreter": {
   "hash": "0972942e03d806110c4040867f38f1bf7ad68804d552db4763aadbe2786688e7"
  },
  "kernelspec": {
   "display_name": "Python 3.10.2 64-bit",
   "language": "python",
   "name": "python3"
  },
  "language_info": {
   "codemirror_mode": {
    "name": "ipython",
    "version": 3
   },
   "file_extension": ".py",
   "mimetype": "text/x-python",
   "name": "python",
   "nbconvert_exporter": "python",
   "pygments_lexer": "ipython3",
   "version": "3.10.2"
  },
  "orig_nbformat": 4
 },
 "nbformat": 4,
 "nbformat_minor": 2
}
