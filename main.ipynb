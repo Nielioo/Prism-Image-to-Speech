{
 "cells": [
  {
   "cell_type": "code",
   "execution_count": 2,
   "metadata": {},
   "outputs": [],
   "source": [
    "import cv2\n",
    "import pytesseract"
   ]
  },
  {
   "cell_type": "code",
   "execution_count": 3,
   "metadata": {},
   "outputs": [],
   "source": [
    "# program to capture single image from webcam in python\n",
    "\n",
    "# initialize the camera\n",
    "# If you have multiple camera connected with\n",
    "# current device, assign a value in cam_port\n",
    "# variable according to that\n",
    "cam_port = 0\n",
    "cam = cv2.VideoCapture(cam_port)\n",
    "\n",
    "# reading the input using the camera\n",
    "result, image = cam.read()\n",
    "\n",
    "# If image will detected without any error,\n",
    "# show result\n",
    "if result:\n",
    "\n",
    "    # showing result, it take frame name and image\n",
    "    # output\n",
    "    # cv2.imshow(\"temp\", image)\n",
    "\n",
    "    # saving image in local storage\n",
    "    cv2.imwrite(\"temp.png\", image)\n",
    "\n",
    "    # If keyboard interrupt occurs, destroy image\n",
    "    # window\n",
    "    # cv2.waitKey(0)\n",
    "    # cv2.destroyWindow(\"temp\")\n",
    "\n",
    "# If captured image is corrupted, moving to else part\n",
    "else:\n",
    "    print(\"No image detected. Please! try again\")"
   ]
  },
  {
   "cell_type": "code",
   "execution_count": 2,
   "metadata": {},
   "outputs": [
    {
     "ename": "NameError",
     "evalue": "name 'cam' is not defined",
     "output_type": "error",
     "traceback": [
      "\u001b[1;31m---------------------------------------------------------------------------\u001b[0m",
      "\u001b[1;31mNameError\u001b[0m                                 Traceback (most recent call last)",
      "\u001b[1;32mc:\\~Other_Folder\\~IMT_UC_Angkatan_2020\\Semester_4\\Artificial Intelegence\\Prism-Image-to-Speech\\main.ipynb Cell 3'\u001b[0m in \u001b[0;36m<cell line: 2>\u001b[1;34m()\u001b[0m\n\u001b[0;32m      <a href='vscode-notebook-cell:/c%3A/~Other_Folder/~IMT_UC_Angkatan_2020/Semester_4/Artificial%20Intelegence/Prism-Image-to-Speech/main.ipynb#ch0000002?line=0'>1</a>\u001b[0m \u001b[39m# camera off\u001b[39;00m\n\u001b[1;32m----> <a href='vscode-notebook-cell:/c%3A/~Other_Folder/~IMT_UC_Angkatan_2020/Semester_4/Artificial%20Intelegence/Prism-Image-to-Speech/main.ipynb#ch0000002?line=1'>2</a>\u001b[0m cam\u001b[39m.\u001b[39mrelease()\n",
      "\u001b[1;31mNameError\u001b[0m: name 'cam' is not defined"
     ]
    }
   ],
   "source": [
    "# camera off\n",
    "cam.release()"
   ]
  },
  {
   "cell_type": "code",
   "execution_count": null,
   "metadata": {},
   "outputs": [],
   "source": [
    "# Mention the installed location of Tesseract-OCR in your system\n",
    "pytesseract.pytesseract.tesseract_cmd = 'c:\\\\Users\\\\Daniel Aprillio\\\\Downloads\\\\tesseract-ocr-w64-setup-v5.1.0.20220510.exe'\n",
    "\n",
    "# Read image from which text needs to be extracted\n",
    "img = cv2.imread(\"temp.png\")\n",
    "\n",
    "# Preprocessing the image starts\n",
    "\n",
    "# Convert the image to gray scale\n",
    "gray = cv2.cvtColor(img, cv2.COLOR_BGR2GRAY)\n",
    "\n",
    "# Performing OTSU threshold\n",
    "ret, thresh1 = cv2.threshold(\n",
    "    gray, 0, 255, cv2.THRESH_OTSU | cv2.THRESH_BINARY_INV)\n",
    "\n",
    "# Specify structure shape and kernel size.\n",
    "# Kernel size increases or decreases the area\n",
    "# of the rectangle to be detected.\n",
    "# A smaller value like (10, 10) will detect\n",
    "# each word instead of a sentence.\n",
    "rect_kernel = cv2.getStructuringElement(cv2.MORPH_RECT, (10, 10))\n",
    "\n",
    "# Applying dilation on the threshold image\n",
    "dilation = cv2.dilate(thresh1, rect_kernel, iterations=1)\n",
    "\n",
    "# Finding contours\n",
    "contours, hierarchy = cv2.findContours(dilation, cv2.RETR_EXTERNAL,\n",
    "                                       cv2.CHAIN_APPROX_NONE)\n",
    "\n",
    "# Creating a copy of image\n",
    "im2 = img.copy()\n",
    "\n",
    "# A text file is created and flushed\n",
    "file = open(\"recognized.txt\", \"w+\")\n",
    "file.write(\"\")\n",
    "file.close()\n",
    "\n",
    "# Looping through the identified contours\n",
    "# Then rectangular part is cropped and passed on\n",
    "# to pytesseract for extracting text from it\n",
    "# Extracted text is then written into the text file\n",
    "for cnt in contours:\n",
    "    x, y, w, h = cv2.boundingRect(cnt)\n",
    "\n",
    "    # Drawing a rectangle on copied image\n",
    "    rect = cv2.rectangle(im2, (x, y), (x + w, y + h), (0, 255, 0), 2)\n",
    "\n",
    "    # Cropping the text block for giving input to OCR\n",
    "    cropped = im2[y:y + h, x:x + w]\n",
    "\n",
    "    # Open the file in append mode\n",
    "    file = open(\"recognized.txt\", \"a\")\n",
    "\n",
    "    # Apply OCR on the cropped image\n",
    "    text = pytesseract.image_to_string(cropped)\n",
    "\n",
    "    # Appending the text into file\n",
    "    file.write(text)\n",
    "    file.write(\"\\n\")\n",
    "\n",
    "    # Close the file\n",
    "    file.close\n"
   ]
  }
 ],
 "metadata": {
  "interpreter": {
   "hash": "dd80e1185563f5b768986380a68a4802e770e2acf5d8a0567afa6995518253c6"
  },
  "kernelspec": {
   "display_name": "Python 3.10.4 64-bit",
   "language": "python",
   "name": "python3"
  },
  "language_info": {
   "codemirror_mode": {
    "name": "ipython",
    "version": 3
   },
   "file_extension": ".py",
   "mimetype": "text/x-python",
   "name": "python",
   "nbconvert_exporter": "python",
   "pygments_lexer": "ipython3",
   "version": "3.10.4"
  },
  "orig_nbformat": 4
 },
 "nbformat": 4,
 "nbformat_minor": 2
}
