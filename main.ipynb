{
 "cells": [
  {
   "cell_type": "code",
   "execution_count": 13,
   "metadata": {},
   "outputs": [],
   "source": [
    "import cv2\n",
    "import pytesseract"
   ]
  },
  {
   "cell_type": "markdown",
   "metadata": {},
   "source": [
    "## Image to Text"
   ]
  },
  {
   "cell_type": "code",
   "execution_count": 4,
   "metadata": {},
   "outputs": [],
   "source": [
    "# program to capture single image from webcam in python\n",
    "\n",
    "# initialize the camera\n",
    "# If you have multiple camera connected with\n",
    "# current device, assign a value in cam_port\n",
    "# variable according to that\n",
    "cam_port = 0\n",
    "cam = cv2.VideoCapture(cam_port)\n",
    "\n",
    "# reading the input using the camera\n",
    "result, image = cam.read()\n",
    "\n",
    "# If image will detected without any error,\n",
    "# show result\n",
    "if result:\n",
    "\n",
    "    # showing result, it take frame name and image\n",
    "    # output\n",
    "    # cv2.imshow(\"temp\", image)\n",
    "\n",
    "    # saving image in local storage\n",
    "    cv2.imwrite(\"temp.png\", image)\n",
    "\n",
    "    # If keyboard interrupt occurs, destroy image\n",
    "    # window\n",
    "    # cv2.waitKey(0)\n",
    "    # cv2.destroyWindow(\"temp\")\n",
    "\n",
    "# If captured image is corrupted, moving to else part\n",
    "else:\n",
    "    print(\"No image detected. Please! try again\")"
   ]
  },
  {
   "cell_type": "code",
   "execution_count": 5,
   "metadata": {},
   "outputs": [],
   "source": [
    "# camera off\n",
    "cam.release()"
   ]
  },
  {
   "cell_type": "code",
   "execution_count": 14,
   "metadata": {},
   "outputs": [],
   "source": [
    "# Mention the installed location of Tesseract-OCR in your system\n",
    "# Laptop Daniel\n",
    "pytesseract.pytesseract.tesseract_cmd = 'C:\\\\Program Files\\\\Tesseract-OCR\\\\tesseract.exe'\n",
    "# Laptop Bryan\n",
    "# Laptop Anna\n",
    "# maaf punya kalian hilang, abis aku reset :\")\n",
    "\n",
    "# Read image from which text needs to be extracted\n",
    "img = cv2.imread(\"temp.png\")\n",
    "\n",
    "# Preprocessing the image starts\n",
    "\n",
    "# Convert the image to gray scale\n",
    "gray = cv2.cvtColor(img, cv2.COLOR_BGR2GRAY)\n",
    "\n",
    "# Performing OTSU threshold\n",
    "ret, thresh1 = cv2.threshold(\n",
    "    gray, 0, 255, cv2.THRESH_OTSU | cv2.THRESH_BINARY_INV)\n",
    "\n",
    "# Specify structure shape and kernel size.\n",
    "# Kernel size increases or decreases the area\n",
    "# of the rectangle to be detected.\n",
    "# A smaller value like (10, 10) will detect\n",
    "# each word instead of a sentence.\n",
    "rect_kernel = cv2.getStructuringElement(cv2.MORPH_RECT, (10, 10))\n",
    "\n",
    "# Applying dilation on the threshold image\n",
    "dilation = cv2.dilate(thresh1, rect_kernel, iterations=1)\n",
    "\n",
    "# Finding contours\n",
    "contours, hierarchy = cv2.findContours(dilation, cv2.RETR_EXTERNAL,\n",
    "                                       cv2.CHAIN_APPROX_NONE)\n",
    "\n",
    "# Creating a copy of image\n",
    "im2 = img.copy()\n",
    "\n",
    "# A text file is created and flushed\n",
    "file = open(\"recognized.txt\", \"w+\")\n",
    "file.write(\"\")\n",
    "file.close()\n",
    "\n",
    "# Looping through the identified contours\n",
    "# Then rectangular part is cropped and passed on\n",
    "# to pytesseract for extracting text from it\n",
    "# Extracted text is then written into the text file\n",
    "for cnt in contours:\n",
    "    x, y, w, h = cv2.boundingRect(cnt)\n",
    "\n",
    "    # Drawing a rectangle on copied image\n",
    "    rect = cv2.rectangle(im2, (x, y), (x + w, y + h), (0, 255, 0), 2)\n",
    "\n",
    "    # Cropping the text block for giving input to OCR\n",
    "    cropped = im2[y:y + h, x:x + w]\n",
    "\n",
    "    # Open the file in append mode\n",
    "    file = open(\"recognized.txt\", \"a\")\n",
    "\n",
    "    # Apply OCR on the cropped image\n",
    "    text = pytesseract.image_to_string(cropped)\n",
    "\n",
    "    # Appending the text into file\n",
    "    # file.write(text)\n",
    "\n",
    "    # Close the file\n",
    "    # file.close\n"
   ]
  },
  {
   "cell_type": "markdown",
   "metadata": {},
   "source": [
    "## Text to Speech"
   ]
  },
  {
   "cell_type": "code",
   "execution_count": 15,
   "metadata": {},
   "outputs": [],
   "source": [
    "# import the following libraries\n",
    "# will convert the image to text string\n",
    "# import pytesseract \n",
    "\n",
    "# adds image processing capabilities\n",
    "# from PIL import Image    \n",
    "  \n",
    " # converts the text to speech  \n",
    "import pyttsx3           \n",
    "  \n",
    "#translates into the mentioned language\n",
    "import googletrans"
   ]
  },
  {
   "cell_type": "code",
   "execution_count": 8,
   "metadata": {},
   "outputs": [
    {
     "name": "stdout",
     "output_type": "stream",
     "text": [
      "{'af': 'afrikaans', 'sq': 'albanian', 'am': 'amharic', 'ar': 'arabic', 'hy': 'armenian', 'az': 'azerbaijani', 'eu': 'basque', 'be': 'belarusian', 'bn': 'bengali', 'bs': 'bosnian', 'bg': 'bulgarian', 'ca': 'catalan', 'ceb': 'cebuano', 'ny': 'chichewa', 'zh-cn': 'chinese (simplified)', 'zh-tw': 'chinese (traditional)', 'co': 'corsican', 'hr': 'croatian', 'cs': 'czech', 'da': 'danish', 'nl': 'dutch', 'en': 'english', 'eo': 'esperanto', 'et': 'estonian', 'tl': 'filipino', 'fi': 'finnish', 'fr': 'french', 'fy': 'frisian', 'gl': 'galician', 'ka': 'georgian', 'de': 'german', 'el': 'greek', 'gu': 'gujarati', 'ht': 'haitian creole', 'ha': 'hausa', 'haw': 'hawaiian', 'iw': 'hebrew', 'he': 'hebrew', 'hi': 'hindi', 'hmn': 'hmong', 'hu': 'hungarian', 'is': 'icelandic', 'ig': 'igbo', 'id': 'indonesian', 'ga': 'irish', 'it': 'italian', 'ja': 'japanese', 'jw': 'javanese', 'kn': 'kannada', 'kk': 'kazakh', 'km': 'khmer', 'ko': 'korean', 'ku': 'kurdish (kurmanji)', 'ky': 'kyrgyz', 'lo': 'lao', 'la': 'latin', 'lv': 'latvian', 'lt': 'lithuanian', 'lb': 'luxembourgish', 'mk': 'macedonian', 'mg': 'malagasy', 'ms': 'malay', 'ml': 'malayalam', 'mt': 'maltese', 'mi': 'maori', 'mr': 'marathi', 'mn': 'mongolian', 'my': 'myanmar (burmese)', 'ne': 'nepali', 'no': 'norwegian', 'or': 'odia', 'ps': 'pashto', 'fa': 'persian', 'pl': 'polish', 'pt': 'portuguese', 'pa': 'punjabi', 'ro': 'romanian', 'ru': 'russian', 'sm': 'samoan', 'gd': 'scots gaelic', 'sr': 'serbian', 'st': 'sesotho', 'sn': 'shona', 'sd': 'sindhi', 'si': 'sinhala', 'sk': 'slovak', 'sl': 'slovenian', 'so': 'somali', 'es': 'spanish', 'su': 'sundanese', 'sw': 'swahili', 'sv': 'swedish', 'tg': 'tajik', 'ta': 'tamil', 'te': 'telugu', 'th': 'thai', 'tr': 'turkish', 'uk': 'ukrainian', 'ur': 'urdu', 'ug': 'uyghur', 'uz': 'uzbek', 'vi': 'vietnamese', 'cy': 'welsh', 'xh': 'xhosa', 'yi': 'yiddish', 'yo': 'yoruba', 'zu': 'zulu'}\n"
     ]
    }
   ],
   "source": [
    "print(googletrans.LANGUAGES)"
   ]
  },
  {
   "cell_type": "code",
   "execution_count": 10,
   "metadata": {},
   "outputs": [],
   "source": [
    "# print(googletrans.LANGCODES)"
   ]
  },
  {
   "cell_type": "code",
   "execution_count": 19,
   "metadata": {},
   "outputs": [
    {
     "name": "stdout",
     "output_type": "stream",
     "text": [
      "Update\n",
      "\n"
     ]
    },
    {
     "ename": "AttributeError",
     "evalue": "'NoneType' object has no attribute 'group'",
     "output_type": "error",
     "traceback": [
      "\u001b[1;31m---------------------------------------------------------------------------\u001b[0m",
      "\u001b[1;31mAttributeError\u001b[0m                            Traceback (most recent call last)",
      "\u001b[1;32mc:\\~Other_Folder\\~IMT_UC_Angkatan_2020\\Semester_4\\Artificial Intelegence\\Prism-Image-to-Speech\\main.ipynb Cell 10'\u001b[0m in \u001b[0;36m<cell line: 19>\u001b[1;34m()\u001b[0m\n\u001b[0;32m     <a href='vscode-notebook-cell:/c%3A/~Other_Folder/~IMT_UC_Angkatan_2020/Semester_4/Artificial%20Intelegence/Prism-Image-to-Speech/main.ipynb#ch0000004?line=16'>17</a>\u001b[0m p \u001b[39m=\u001b[39m Translator()                      \n\u001b[0;32m     <a href='vscode-notebook-cell:/c%3A/~Other_Folder/~IMT_UC_Angkatan_2020/Semester_4/Artificial%20Intelegence/Prism-Image-to-Speech/main.ipynb#ch0000004?line=17'>18</a>\u001b[0m \u001b[39m# translates the text into german language\u001b[39;00m\n\u001b[1;32m---> <a href='vscode-notebook-cell:/c%3A/~Other_Folder/~IMT_UC_Angkatan_2020/Semester_4/Artificial%20Intelegence/Prism-Image-to-Speech/main.ipynb#ch0000004?line=18'>19</a>\u001b[0m k \u001b[39m=\u001b[39m p\u001b[39m.\u001b[39;49mtranslate(text,dest\u001b[39m=\u001b[39;49m\u001b[39m'\u001b[39;49m\u001b[39men\u001b[39;49m\u001b[39m'\u001b[39;49m)      \n\u001b[0;32m     <a href='vscode-notebook-cell:/c%3A/~Other_Folder/~IMT_UC_Angkatan_2020/Semester_4/Artificial%20Intelegence/Prism-Image-to-Speech/main.ipynb#ch0000004?line=19'>20</a>\u001b[0m \u001b[39mprint\u001b[39m(k)\n\u001b[0;32m     <a href='vscode-notebook-cell:/c%3A/~Other_Folder/~IMT_UC_Angkatan_2020/Semester_4/Artificial%20Intelegence/Prism-Image-to-Speech/main.ipynb#ch0000004?line=20'>21</a>\u001b[0m engine \u001b[39m=\u001b[39m pyttsx3\u001b[39m.\u001b[39minit()\n",
      "File \u001b[1;32mc:\\Users\\Daniel Aprillio\\AppData\\Local\\Programs\\Python\\Python310\\lib\\site-packages\\googletrans\\client.py:182\u001b[0m, in \u001b[0;36mTranslator.translate\u001b[1;34m(self, text, dest, src, **kwargs)\u001b[0m\n\u001b[0;32m    <a href='file:///c%3A/Users/Daniel%20Aprillio/AppData/Local/Programs/Python/Python310/lib/site-packages/googletrans/client.py?line=178'>179</a>\u001b[0m     \u001b[39mreturn\u001b[39;00m result\n\u001b[0;32m    <a href='file:///c%3A/Users/Daniel%20Aprillio/AppData/Local/Programs/Python/Python310/lib/site-packages/googletrans/client.py?line=180'>181</a>\u001b[0m origin \u001b[39m=\u001b[39m text\n\u001b[1;32m--> <a href='file:///c%3A/Users/Daniel%20Aprillio/AppData/Local/Programs/Python/Python310/lib/site-packages/googletrans/client.py?line=181'>182</a>\u001b[0m data \u001b[39m=\u001b[39m \u001b[39mself\u001b[39;49m\u001b[39m.\u001b[39;49m_translate(text, dest, src, kwargs)\n\u001b[0;32m    <a href='file:///c%3A/Users/Daniel%20Aprillio/AppData/Local/Programs/Python/Python310/lib/site-packages/googletrans/client.py?line=183'>184</a>\u001b[0m \u001b[39m# this code will be updated when the format is changed.\u001b[39;00m\n\u001b[0;32m    <a href='file:///c%3A/Users/Daniel%20Aprillio/AppData/Local/Programs/Python/Python310/lib/site-packages/googletrans/client.py?line=184'>185</a>\u001b[0m translated \u001b[39m=\u001b[39m \u001b[39m'\u001b[39m\u001b[39m'\u001b[39m\u001b[39m.\u001b[39mjoin([d[\u001b[39m0\u001b[39m] \u001b[39mif\u001b[39;00m d[\u001b[39m0\u001b[39m] \u001b[39melse\u001b[39;00m \u001b[39m'\u001b[39m\u001b[39m'\u001b[39m \u001b[39mfor\u001b[39;00m d \u001b[39min\u001b[39;00m data[\u001b[39m0\u001b[39m]])\n",
      "File \u001b[1;32mc:\\Users\\Daniel Aprillio\\AppData\\Local\\Programs\\Python\\Python310\\lib\\site-packages\\googletrans\\client.py:78\u001b[0m, in \u001b[0;36mTranslator._translate\u001b[1;34m(self, text, dest, src, override)\u001b[0m\n\u001b[0;32m     <a href='file:///c%3A/Users/Daniel%20Aprillio/AppData/Local/Programs/Python/Python310/lib/site-packages/googletrans/client.py?line=76'>77</a>\u001b[0m \u001b[39mdef\u001b[39;00m \u001b[39m_translate\u001b[39m(\u001b[39mself\u001b[39m, text, dest, src, override):\n\u001b[1;32m---> <a href='file:///c%3A/Users/Daniel%20Aprillio/AppData/Local/Programs/Python/Python310/lib/site-packages/googletrans/client.py?line=77'>78</a>\u001b[0m     token \u001b[39m=\u001b[39m \u001b[39mself\u001b[39;49m\u001b[39m.\u001b[39;49mtoken_acquirer\u001b[39m.\u001b[39;49mdo(text)\n\u001b[0;32m     <a href='file:///c%3A/Users/Daniel%20Aprillio/AppData/Local/Programs/Python/Python310/lib/site-packages/googletrans/client.py?line=78'>79</a>\u001b[0m     params \u001b[39m=\u001b[39m utils\u001b[39m.\u001b[39mbuild_params(query\u001b[39m=\u001b[39mtext, src\u001b[39m=\u001b[39msrc, dest\u001b[39m=\u001b[39mdest,\n\u001b[0;32m     <a href='file:///c%3A/Users/Daniel%20Aprillio/AppData/Local/Programs/Python/Python310/lib/site-packages/googletrans/client.py?line=79'>80</a>\u001b[0m                                 token\u001b[39m=\u001b[39mtoken, override\u001b[39m=\u001b[39moverride)\n\u001b[0;32m     <a href='file:///c%3A/Users/Daniel%20Aprillio/AppData/Local/Programs/Python/Python310/lib/site-packages/googletrans/client.py?line=81'>82</a>\u001b[0m     url \u001b[39m=\u001b[39m urls\u001b[39m.\u001b[39mTRANSLATE\u001b[39m.\u001b[39mformat(host\u001b[39m=\u001b[39m\u001b[39mself\u001b[39m\u001b[39m.\u001b[39m_pick_service_url())\n",
      "File \u001b[1;32mc:\\Users\\Daniel Aprillio\\AppData\\Local\\Programs\\Python\\Python310\\lib\\site-packages\\googletrans\\gtoken.py:194\u001b[0m, in \u001b[0;36mTokenAcquirer.do\u001b[1;34m(self, text)\u001b[0m\n\u001b[0;32m    <a href='file:///c%3A/Users/Daniel%20Aprillio/AppData/Local/Programs/Python/Python310/lib/site-packages/googletrans/gtoken.py?line=192'>193</a>\u001b[0m \u001b[39mdef\u001b[39;00m \u001b[39mdo\u001b[39m(\u001b[39mself\u001b[39m, text):\n\u001b[1;32m--> <a href='file:///c%3A/Users/Daniel%20Aprillio/AppData/Local/Programs/Python/Python310/lib/site-packages/googletrans/gtoken.py?line=193'>194</a>\u001b[0m     \u001b[39mself\u001b[39;49m\u001b[39m.\u001b[39;49m_update()\n\u001b[0;32m    <a href='file:///c%3A/Users/Daniel%20Aprillio/AppData/Local/Programs/Python/Python310/lib/site-packages/googletrans/gtoken.py?line=194'>195</a>\u001b[0m     tk \u001b[39m=\u001b[39m \u001b[39mself\u001b[39m\u001b[39m.\u001b[39macquire(text)\n\u001b[0;32m    <a href='file:///c%3A/Users/Daniel%20Aprillio/AppData/Local/Programs/Python/Python310/lib/site-packages/googletrans/gtoken.py?line=195'>196</a>\u001b[0m     \u001b[39mreturn\u001b[39;00m tk\n",
      "File \u001b[1;32mc:\\Users\\Daniel Aprillio\\AppData\\Local\\Programs\\Python\\Python310\\lib\\site-packages\\googletrans\\gtoken.py:62\u001b[0m, in \u001b[0;36mTokenAcquirer._update\u001b[1;34m(self)\u001b[0m\n\u001b[0;32m     <a href='file:///c%3A/Users/Daniel%20Aprillio/AppData/Local/Programs/Python/Python310/lib/site-packages/googletrans/gtoken.py?line=58'>59</a>\u001b[0m     \u001b[39mreturn\u001b[39;00m\n\u001b[0;32m     <a href='file:///c%3A/Users/Daniel%20Aprillio/AppData/Local/Programs/Python/Python310/lib/site-packages/googletrans/gtoken.py?line=60'>61</a>\u001b[0m \u001b[39m# this will be the same as python code after stripping out a reserved word 'var'\u001b[39;00m\n\u001b[1;32m---> <a href='file:///c%3A/Users/Daniel%20Aprillio/AppData/Local/Programs/Python/Python310/lib/site-packages/googletrans/gtoken.py?line=61'>62</a>\u001b[0m code \u001b[39m=\u001b[39m \u001b[39mself\u001b[39;49m\u001b[39m.\u001b[39;49mRE_TKK\u001b[39m.\u001b[39;49msearch(r\u001b[39m.\u001b[39;49mtext)\u001b[39m.\u001b[39;49mgroup(\u001b[39m1\u001b[39m)\u001b[39m.\u001b[39mreplace(\u001b[39m'\u001b[39m\u001b[39mvar \u001b[39m\u001b[39m'\u001b[39m, \u001b[39m'\u001b[39m\u001b[39m'\u001b[39m)\n\u001b[0;32m     <a href='file:///c%3A/Users/Daniel%20Aprillio/AppData/Local/Programs/Python/Python310/lib/site-packages/googletrans/gtoken.py?line=62'>63</a>\u001b[0m \u001b[39m# unescape special ascii characters such like a \\x3d(=)\u001b[39;00m\n\u001b[0;32m     <a href='file:///c%3A/Users/Daniel%20Aprillio/AppData/Local/Programs/Python/Python310/lib/site-packages/googletrans/gtoken.py?line=63'>64</a>\u001b[0m code \u001b[39m=\u001b[39m code\u001b[39m.\u001b[39mencode()\u001b[39m.\u001b[39mdecode(\u001b[39m'\u001b[39m\u001b[39municode-escape\u001b[39m\u001b[39m'\u001b[39m)\n",
      "\u001b[1;31mAttributeError\u001b[0m: 'NoneType' object has no attribute 'group'"
     ]
    }
   ],
   "source": [
    "from googletrans import Translator\n",
    "# opening an image from the source path\n",
    "# img = Image.open('temp.png')     \n",
    "  \n",
    "# describes image format in the output\n",
    "# print(img)                          \n",
    "# path where the tesseract module is installed\n",
    "# pytesseract.pytesseract.tesseract_cmd = 'C:\\\\Program Files\\\\Tesseract-OCR\\\\tesseract.exe' \n",
    "# converts the image to result and saves it into result variable\n",
    "# result = pytesseract.image_to_string(img)   \n",
    "# write text in a text file and save it to source path   \n",
    "with open('recognized.txt',mode ='w') as file:     \n",
    "      \n",
    "                 file.write(text)\n",
    "                 print(text)\n",
    "                   \n",
    "p = Translator()                      \n",
    "# translates the text into german language\n",
    "k = p.translate(text,dest='en')      \n",
    "print(k)\n",
    "engine = pyttsx3.init()\n",
    "  \n",
    "# an audio will be played which speaks the test if pyttsx3 recognizes it\n",
    "engine.say(k)                             \n",
    "engine.runAndWait()"
   ]
  }
 ],
 "metadata": {
  "interpreter": {
   "hash": "dd80e1185563f5b768986380a68a4802e770e2acf5d8a0567afa6995518253c6"
  },
  "kernelspec": {
   "display_name": "Python 3.10.4 64-bit",
   "language": "python",
   "name": "python3"
  },
  "language_info": {
   "codemirror_mode": {
    "name": "ipython",
    "version": 3
   },
   "file_extension": ".py",
   "mimetype": "text/x-python",
   "name": "python",
   "nbconvert_exporter": "python",
   "pygments_lexer": "ipython3",
   "version": "3.10.4"
  },
  "orig_nbformat": 4
 },
 "nbformat": 4,
 "nbformat_minor": 2
}
