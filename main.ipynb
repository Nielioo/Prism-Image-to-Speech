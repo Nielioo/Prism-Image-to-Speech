{
 "cells": [
  {
   "cell_type": "code",
   "execution_count": 14,
   "metadata": {},
   "outputs": [],
   "source": [
    "import cv2\n",
    "import pytesseract"
   ]
  },
  {
   "cell_type": "code",
   "execution_count": 14,
   "metadata": {},
   "outputs": [],
   "source": [
    "# program to capture single image from webcam in python\n",
    "\n",
    "# initialize the camera\n",
    "# If you have multiple camera connected with\n",
    "# current device, assign a value in cam_port\n",
    "# variable according to that\n",
    "cam_port = 0\n",
    "cam = cv2.VideoCapture(cam_port)\n",
    "\n",
    "# reading the input using the camera\n",
    "result, image = cam.read()\n",
    "\n",
    "# If image will detected without any error,\n",
    "# show result\n",
    "if result:\n",
    "\n",
    "    # showing result, it take frame name and image\n",
    "    # output\n",
    "    # cv2.imshow(\"temp\", image)\n",
    "\n",
    "    # saving image in local storage\n",
    "    cv2.imwrite(\"temp.png\", image)\n",
    "\n",
    "    # If keyboard interrupt occurs, destroy image\n",
    "    # window\n",
    "    # cv2.waitKey(0)\n",
    "    # cv2.destroyWindow(\"temp\")\n",
    "\n",
    "# If captured image is corrupted, moving to else part\n",
    "else:\n",
    "    print(\"No image detected. Please! try again\")"
   ]
  },
  {
   "cell_type": "code",
   "execution_count": 15,
   "metadata": {},
   "outputs": [],
   "source": [
    "# camera off\n",
    "cam.release()"
   ]
  },
  {
   "cell_type": "code",
   "execution_count": 13,
   "metadata": {},
   "outputs": [
    {
     "ename": "OSError",
     "evalue": "[WinError 740] The requested operation requires elevation",
     "output_type": "error",
     "traceback": [
      "\u001b[1;31m---------------------------------------------------------------------------\u001b[0m",
      "\u001b[1;31mOSError\u001b[0m                                   Traceback (most recent call last)",
      "\u001b[1;32mc:\\~Other_Folder\\~IMT_UC_Angkatan_2020\\Semester_4\\Artificial Intelegence\\Prism-Image-to-Speech\\main.ipynb Cell 4'\u001b[0m in \u001b[0;36m<cell line: 43>\u001b[1;34m()\u001b[0m\n\u001b[0;32m     <a href='vscode-notebook-cell:/c%3A/~Other_Folder/~IMT_UC_Angkatan_2020/Semester_4/Artificial%20Intelegence/Prism-Image-to-Speech/main.ipynb#ch0000003?line=52'>53</a>\u001b[0m file \u001b[39m=\u001b[39m \u001b[39mopen\u001b[39m(\u001b[39m\"\u001b[39m\u001b[39mrecognized.txt\u001b[39m\u001b[39m\"\u001b[39m, \u001b[39m\"\u001b[39m\u001b[39ma\u001b[39m\u001b[39m\"\u001b[39m)\n\u001b[0;32m     <a href='vscode-notebook-cell:/c%3A/~Other_Folder/~IMT_UC_Angkatan_2020/Semester_4/Artificial%20Intelegence/Prism-Image-to-Speech/main.ipynb#ch0000003?line=54'>55</a>\u001b[0m \u001b[39m# Apply OCR on the cropped image\u001b[39;00m\n\u001b[1;32m---> <a href='vscode-notebook-cell:/c%3A/~Other_Folder/~IMT_UC_Angkatan_2020/Semester_4/Artificial%20Intelegence/Prism-Image-to-Speech/main.ipynb#ch0000003?line=55'>56</a>\u001b[0m text \u001b[39m=\u001b[39m pytesseract\u001b[39m.\u001b[39;49mimage_to_string(cropped)\n\u001b[0;32m     <a href='vscode-notebook-cell:/c%3A/~Other_Folder/~IMT_UC_Angkatan_2020/Semester_4/Artificial%20Intelegence/Prism-Image-to-Speech/main.ipynb#ch0000003?line=57'>58</a>\u001b[0m \u001b[39m# Appending the text into file\u001b[39;00m\n\u001b[0;32m     <a href='vscode-notebook-cell:/c%3A/~Other_Folder/~IMT_UC_Angkatan_2020/Semester_4/Artificial%20Intelegence/Prism-Image-to-Speech/main.ipynb#ch0000003?line=58'>59</a>\u001b[0m file\u001b[39m.\u001b[39mwrite(text)\n",
      "File \u001b[1;32mc:\\Users\\Daniel Aprillio\\AppData\\Local\\Programs\\Python\\Python310\\lib\\site-packages\\pytesseract\\pytesseract.py:416\u001b[0m, in \u001b[0;36mimage_to_string\u001b[1;34m(image, lang, config, nice, output_type, timeout)\u001b[0m\n\u001b[0;32m    <a href='file:///c%3A/Users/Daniel%20Aprillio/AppData/Local/Programs/Python/Python310/lib/site-packages/pytesseract/pytesseract.py?line=410'>411</a>\u001b[0m \u001b[39m\"\"\"\u001b[39;00m\n\u001b[0;32m    <a href='file:///c%3A/Users/Daniel%20Aprillio/AppData/Local/Programs/Python/Python310/lib/site-packages/pytesseract/pytesseract.py?line=411'>412</a>\u001b[0m \u001b[39mReturns the result of a Tesseract OCR run on the provided image to string\u001b[39;00m\n\u001b[0;32m    <a href='file:///c%3A/Users/Daniel%20Aprillio/AppData/Local/Programs/Python/Python310/lib/site-packages/pytesseract/pytesseract.py?line=412'>413</a>\u001b[0m \u001b[39m\"\"\"\u001b[39;00m\n\u001b[0;32m    <a href='file:///c%3A/Users/Daniel%20Aprillio/AppData/Local/Programs/Python/Python310/lib/site-packages/pytesseract/pytesseract.py?line=413'>414</a>\u001b[0m args \u001b[39m=\u001b[39m [image, \u001b[39m'\u001b[39m\u001b[39mtxt\u001b[39m\u001b[39m'\u001b[39m, lang, config, nice, timeout]\n\u001b[1;32m--> <a href='file:///c%3A/Users/Daniel%20Aprillio/AppData/Local/Programs/Python/Python310/lib/site-packages/pytesseract/pytesseract.py?line=415'>416</a>\u001b[0m \u001b[39mreturn\u001b[39;00m {\n\u001b[0;32m    <a href='file:///c%3A/Users/Daniel%20Aprillio/AppData/Local/Programs/Python/Python310/lib/site-packages/pytesseract/pytesseract.py?line=416'>417</a>\u001b[0m     Output\u001b[39m.\u001b[39;49mBYTES: \u001b[39mlambda\u001b[39;49;00m: run_and_get_output(\u001b[39m*\u001b[39;49m(args \u001b[39m+\u001b[39;49m [\u001b[39mTrue\u001b[39;49;00m])),\n\u001b[0;32m    <a href='file:///c%3A/Users/Daniel%20Aprillio/AppData/Local/Programs/Python/Python310/lib/site-packages/pytesseract/pytesseract.py?line=417'>418</a>\u001b[0m     Output\u001b[39m.\u001b[39;49mDICT: \u001b[39mlambda\u001b[39;49;00m: {\u001b[39m'\u001b[39;49m\u001b[39mtext\u001b[39;49m\u001b[39m'\u001b[39;49m: run_and_get_output(\u001b[39m*\u001b[39;49margs)},\n\u001b[0;32m    <a href='file:///c%3A/Users/Daniel%20Aprillio/AppData/Local/Programs/Python/Python310/lib/site-packages/pytesseract/pytesseract.py?line=418'>419</a>\u001b[0m     Output\u001b[39m.\u001b[39;49mSTRING: \u001b[39mlambda\u001b[39;49;00m: run_and_get_output(\u001b[39m*\u001b[39;49margs),\n\u001b[0;32m    <a href='file:///c%3A/Users/Daniel%20Aprillio/AppData/Local/Programs/Python/Python310/lib/site-packages/pytesseract/pytesseract.py?line=419'>420</a>\u001b[0m }[output_type]()\n",
      "File \u001b[1;32mc:\\Users\\Daniel Aprillio\\AppData\\Local\\Programs\\Python\\Python310\\lib\\site-packages\\pytesseract\\pytesseract.py:419\u001b[0m, in \u001b[0;36mimage_to_string.<locals>.<lambda>\u001b[1;34m()\u001b[0m\n\u001b[0;32m    <a href='file:///c%3A/Users/Daniel%20Aprillio/AppData/Local/Programs/Python/Python310/lib/site-packages/pytesseract/pytesseract.py?line=410'>411</a>\u001b[0m \u001b[39m\"\"\"\u001b[39;00m\n\u001b[0;32m    <a href='file:///c%3A/Users/Daniel%20Aprillio/AppData/Local/Programs/Python/Python310/lib/site-packages/pytesseract/pytesseract.py?line=411'>412</a>\u001b[0m \u001b[39mReturns the result of a Tesseract OCR run on the provided image to string\u001b[39;00m\n\u001b[0;32m    <a href='file:///c%3A/Users/Daniel%20Aprillio/AppData/Local/Programs/Python/Python310/lib/site-packages/pytesseract/pytesseract.py?line=412'>413</a>\u001b[0m \u001b[39m\"\"\"\u001b[39;00m\n\u001b[0;32m    <a href='file:///c%3A/Users/Daniel%20Aprillio/AppData/Local/Programs/Python/Python310/lib/site-packages/pytesseract/pytesseract.py?line=413'>414</a>\u001b[0m args \u001b[39m=\u001b[39m [image, \u001b[39m'\u001b[39m\u001b[39mtxt\u001b[39m\u001b[39m'\u001b[39m, lang, config, nice, timeout]\n\u001b[0;32m    <a href='file:///c%3A/Users/Daniel%20Aprillio/AppData/Local/Programs/Python/Python310/lib/site-packages/pytesseract/pytesseract.py?line=415'>416</a>\u001b[0m \u001b[39mreturn\u001b[39;00m {\n\u001b[0;32m    <a href='file:///c%3A/Users/Daniel%20Aprillio/AppData/Local/Programs/Python/Python310/lib/site-packages/pytesseract/pytesseract.py?line=416'>417</a>\u001b[0m     Output\u001b[39m.\u001b[39mBYTES: \u001b[39mlambda\u001b[39;00m: run_and_get_output(\u001b[39m*\u001b[39m(args \u001b[39m+\u001b[39m [\u001b[39mTrue\u001b[39;00m])),\n\u001b[0;32m    <a href='file:///c%3A/Users/Daniel%20Aprillio/AppData/Local/Programs/Python/Python310/lib/site-packages/pytesseract/pytesseract.py?line=417'>418</a>\u001b[0m     Output\u001b[39m.\u001b[39mDICT: \u001b[39mlambda\u001b[39;00m: {\u001b[39m'\u001b[39m\u001b[39mtext\u001b[39m\u001b[39m'\u001b[39m: run_and_get_output(\u001b[39m*\u001b[39margs)},\n\u001b[1;32m--> <a href='file:///c%3A/Users/Daniel%20Aprillio/AppData/Local/Programs/Python/Python310/lib/site-packages/pytesseract/pytesseract.py?line=418'>419</a>\u001b[0m     Output\u001b[39m.\u001b[39mSTRING: \u001b[39mlambda\u001b[39;00m: run_and_get_output(\u001b[39m*\u001b[39;49margs),\n\u001b[0;32m    <a href='file:///c%3A/Users/Daniel%20Aprillio/AppData/Local/Programs/Python/Python310/lib/site-packages/pytesseract/pytesseract.py?line=419'>420</a>\u001b[0m }[output_type]()\n",
      "File \u001b[1;32mc:\\Users\\Daniel Aprillio\\AppData\\Local\\Programs\\Python\\Python310\\lib\\site-packages\\pytesseract\\pytesseract.py:286\u001b[0m, in \u001b[0;36mrun_and_get_output\u001b[1;34m(image, extension, lang, config, nice, timeout, return_bytes)\u001b[0m\n\u001b[0;32m    <a href='file:///c%3A/Users/Daniel%20Aprillio/AppData/Local/Programs/Python/Python310/lib/site-packages/pytesseract/pytesseract.py?line=274'>275</a>\u001b[0m \u001b[39mwith\u001b[39;00m save(image) \u001b[39mas\u001b[39;00m (temp_name, input_filename):\n\u001b[0;32m    <a href='file:///c%3A/Users/Daniel%20Aprillio/AppData/Local/Programs/Python/Python310/lib/site-packages/pytesseract/pytesseract.py?line=275'>276</a>\u001b[0m     kwargs \u001b[39m=\u001b[39m {\n\u001b[0;32m    <a href='file:///c%3A/Users/Daniel%20Aprillio/AppData/Local/Programs/Python/Python310/lib/site-packages/pytesseract/pytesseract.py?line=276'>277</a>\u001b[0m         \u001b[39m'\u001b[39m\u001b[39minput_filename\u001b[39m\u001b[39m'\u001b[39m: input_filename,\n\u001b[0;32m    <a href='file:///c%3A/Users/Daniel%20Aprillio/AppData/Local/Programs/Python/Python310/lib/site-packages/pytesseract/pytesseract.py?line=277'>278</a>\u001b[0m         \u001b[39m'\u001b[39m\u001b[39moutput_filename_base\u001b[39m\u001b[39m'\u001b[39m: temp_name,\n\u001b[1;32m   (...)\u001b[0m\n\u001b[0;32m    <a href='file:///c%3A/Users/Daniel%20Aprillio/AppData/Local/Programs/Python/Python310/lib/site-packages/pytesseract/pytesseract.py?line=282'>283</a>\u001b[0m         \u001b[39m'\u001b[39m\u001b[39mtimeout\u001b[39m\u001b[39m'\u001b[39m: timeout,\n\u001b[0;32m    <a href='file:///c%3A/Users/Daniel%20Aprillio/AppData/Local/Programs/Python/Python310/lib/site-packages/pytesseract/pytesseract.py?line=283'>284</a>\u001b[0m     }\n\u001b[1;32m--> <a href='file:///c%3A/Users/Daniel%20Aprillio/AppData/Local/Programs/Python/Python310/lib/site-packages/pytesseract/pytesseract.py?line=285'>286</a>\u001b[0m     run_tesseract(\u001b[39m*\u001b[39m\u001b[39m*\u001b[39mkwargs)\n\u001b[0;32m    <a href='file:///c%3A/Users/Daniel%20Aprillio/AppData/Local/Programs/Python/Python310/lib/site-packages/pytesseract/pytesseract.py?line=286'>287</a>\u001b[0m     filename \u001b[39m=\u001b[39m kwargs[\u001b[39m'\u001b[39m\u001b[39moutput_filename_base\u001b[39m\u001b[39m'\u001b[39m] \u001b[39m+\u001b[39m extsep \u001b[39m+\u001b[39m extension\n\u001b[0;32m    <a href='file:///c%3A/Users/Daniel%20Aprillio/AppData/Local/Programs/Python/Python310/lib/site-packages/pytesseract/pytesseract.py?line=287'>288</a>\u001b[0m     \u001b[39mwith\u001b[39;00m \u001b[39mopen\u001b[39m(filename, \u001b[39m'\u001b[39m\u001b[39mrb\u001b[39m\u001b[39m'\u001b[39m) \u001b[39mas\u001b[39;00m output_file:\n",
      "File \u001b[1;32mc:\\Users\\Daniel Aprillio\\AppData\\Local\\Programs\\Python\\Python310\\lib\\site-packages\\pytesseract\\pytesseract.py:257\u001b[0m, in \u001b[0;36mrun_tesseract\u001b[1;34m(input_filename, output_filename_base, extension, lang, config, nice, timeout)\u001b[0m\n\u001b[0;32m    <a href='file:///c%3A/Users/Daniel%20Aprillio/AppData/Local/Programs/Python/Python310/lib/site-packages/pytesseract/pytesseract.py?line=254'>255</a>\u001b[0m \u001b[39mexcept\u001b[39;00m \u001b[39mOSError\u001b[39;00m \u001b[39mas\u001b[39;00m e:\n\u001b[0;32m    <a href='file:///c%3A/Users/Daniel%20Aprillio/AppData/Local/Programs/Python/Python310/lib/site-packages/pytesseract/pytesseract.py?line=255'>256</a>\u001b[0m     \u001b[39mif\u001b[39;00m e\u001b[39m.\u001b[39merrno \u001b[39m!=\u001b[39m ENOENT:\n\u001b[1;32m--> <a href='file:///c%3A/Users/Daniel%20Aprillio/AppData/Local/Programs/Python/Python310/lib/site-packages/pytesseract/pytesseract.py?line=256'>257</a>\u001b[0m         \u001b[39mraise\u001b[39;00m e\n\u001b[0;32m    <a href='file:///c%3A/Users/Daniel%20Aprillio/AppData/Local/Programs/Python/Python310/lib/site-packages/pytesseract/pytesseract.py?line=257'>258</a>\u001b[0m     \u001b[39mraise\u001b[39;00m TesseractNotFoundError()\n\u001b[0;32m    <a href='file:///c%3A/Users/Daniel%20Aprillio/AppData/Local/Programs/Python/Python310/lib/site-packages/pytesseract/pytesseract.py?line=259'>260</a>\u001b[0m \u001b[39mwith\u001b[39;00m timeout_manager(proc, timeout) \u001b[39mas\u001b[39;00m error_string:\n",
      "File \u001b[1;32mc:\\Users\\Daniel Aprillio\\AppData\\Local\\Programs\\Python\\Python310\\lib\\site-packages\\pytesseract\\pytesseract.py:254\u001b[0m, in \u001b[0;36mrun_tesseract\u001b[1;34m(input_filename, output_filename_base, extension, lang, config, nice, timeout)\u001b[0m\n\u001b[0;32m    <a href='file:///c%3A/Users/Daniel%20Aprillio/AppData/Local/Programs/Python/Python310/lib/site-packages/pytesseract/pytesseract.py?line=250'>251</a>\u001b[0m     cmd_args\u001b[39m.\u001b[39mappend(extension)\n\u001b[0;32m    <a href='file:///c%3A/Users/Daniel%20Aprillio/AppData/Local/Programs/Python/Python310/lib/site-packages/pytesseract/pytesseract.py?line=252'>253</a>\u001b[0m \u001b[39mtry\u001b[39;00m:\n\u001b[1;32m--> <a href='file:///c%3A/Users/Daniel%20Aprillio/AppData/Local/Programs/Python/Python310/lib/site-packages/pytesseract/pytesseract.py?line=253'>254</a>\u001b[0m     proc \u001b[39m=\u001b[39m subprocess\u001b[39m.\u001b[39mPopen(cmd_args, \u001b[39m*\u001b[39m\u001b[39m*\u001b[39msubprocess_args())\n\u001b[0;32m    <a href='file:///c%3A/Users/Daniel%20Aprillio/AppData/Local/Programs/Python/Python310/lib/site-packages/pytesseract/pytesseract.py?line=254'>255</a>\u001b[0m \u001b[39mexcept\u001b[39;00m \u001b[39mOSError\u001b[39;00m \u001b[39mas\u001b[39;00m e:\n\u001b[0;32m    <a href='file:///c%3A/Users/Daniel%20Aprillio/AppData/Local/Programs/Python/Python310/lib/site-packages/pytesseract/pytesseract.py?line=255'>256</a>\u001b[0m     \u001b[39mif\u001b[39;00m e\u001b[39m.\u001b[39merrno \u001b[39m!=\u001b[39m ENOENT:\n",
      "File \u001b[1;32mc:\\Users\\Daniel Aprillio\\AppData\\Local\\Programs\\Python\\Python310\\lib\\subprocess.py:966\u001b[0m, in \u001b[0;36mPopen.__init__\u001b[1;34m(self, args, bufsize, executable, stdin, stdout, stderr, preexec_fn, close_fds, shell, cwd, env, universal_newlines, startupinfo, creationflags, restore_signals, start_new_session, pass_fds, user, group, extra_groups, encoding, errors, text, umask, pipesize)\u001b[0m\n\u001b[0;32m    <a href='file:///c%3A/Users/Daniel%20Aprillio/AppData/Local/Programs/Python/Python310/lib/subprocess.py?line=961'>962</a>\u001b[0m         \u001b[39mif\u001b[39;00m \u001b[39mself\u001b[39m\u001b[39m.\u001b[39mtext_mode:\n\u001b[0;32m    <a href='file:///c%3A/Users/Daniel%20Aprillio/AppData/Local/Programs/Python/Python310/lib/subprocess.py?line=962'>963</a>\u001b[0m             \u001b[39mself\u001b[39m\u001b[39m.\u001b[39mstderr \u001b[39m=\u001b[39m io\u001b[39m.\u001b[39mTextIOWrapper(\u001b[39mself\u001b[39m\u001b[39m.\u001b[39mstderr,\n\u001b[0;32m    <a href='file:///c%3A/Users/Daniel%20Aprillio/AppData/Local/Programs/Python/Python310/lib/subprocess.py?line=963'>964</a>\u001b[0m                     encoding\u001b[39m=\u001b[39mencoding, errors\u001b[39m=\u001b[39merrors)\n\u001b[1;32m--> <a href='file:///c%3A/Users/Daniel%20Aprillio/AppData/Local/Programs/Python/Python310/lib/subprocess.py?line=965'>966</a>\u001b[0m     \u001b[39mself\u001b[39;49m\u001b[39m.\u001b[39;49m_execute_child(args, executable, preexec_fn, close_fds,\n\u001b[0;32m    <a href='file:///c%3A/Users/Daniel%20Aprillio/AppData/Local/Programs/Python/Python310/lib/subprocess.py?line=966'>967</a>\u001b[0m                         pass_fds, cwd, env,\n\u001b[0;32m    <a href='file:///c%3A/Users/Daniel%20Aprillio/AppData/Local/Programs/Python/Python310/lib/subprocess.py?line=967'>968</a>\u001b[0m                         startupinfo, creationflags, shell,\n\u001b[0;32m    <a href='file:///c%3A/Users/Daniel%20Aprillio/AppData/Local/Programs/Python/Python310/lib/subprocess.py?line=968'>969</a>\u001b[0m                         p2cread, p2cwrite,\n\u001b[0;32m    <a href='file:///c%3A/Users/Daniel%20Aprillio/AppData/Local/Programs/Python/Python310/lib/subprocess.py?line=969'>970</a>\u001b[0m                         c2pread, c2pwrite,\n\u001b[0;32m    <a href='file:///c%3A/Users/Daniel%20Aprillio/AppData/Local/Programs/Python/Python310/lib/subprocess.py?line=970'>971</a>\u001b[0m                         errread, errwrite,\n\u001b[0;32m    <a href='file:///c%3A/Users/Daniel%20Aprillio/AppData/Local/Programs/Python/Python310/lib/subprocess.py?line=971'>972</a>\u001b[0m                         restore_signals,\n\u001b[0;32m    <a href='file:///c%3A/Users/Daniel%20Aprillio/AppData/Local/Programs/Python/Python310/lib/subprocess.py?line=972'>973</a>\u001b[0m                         gid, gids, uid, umask,\n\u001b[0;32m    <a href='file:///c%3A/Users/Daniel%20Aprillio/AppData/Local/Programs/Python/Python310/lib/subprocess.py?line=973'>974</a>\u001b[0m                         start_new_session)\n\u001b[0;32m    <a href='file:///c%3A/Users/Daniel%20Aprillio/AppData/Local/Programs/Python/Python310/lib/subprocess.py?line=974'>975</a>\u001b[0m \u001b[39mexcept\u001b[39;00m:\n\u001b[0;32m    <a href='file:///c%3A/Users/Daniel%20Aprillio/AppData/Local/Programs/Python/Python310/lib/subprocess.py?line=975'>976</a>\u001b[0m     \u001b[39m# Cleanup if the child failed starting.\u001b[39;00m\n\u001b[0;32m    <a href='file:///c%3A/Users/Daniel%20Aprillio/AppData/Local/Programs/Python/Python310/lib/subprocess.py?line=976'>977</a>\u001b[0m     \u001b[39mfor\u001b[39;00m f \u001b[39min\u001b[39;00m \u001b[39mfilter\u001b[39m(\u001b[39mNone\u001b[39;00m, (\u001b[39mself\u001b[39m\u001b[39m.\u001b[39mstdin, \u001b[39mself\u001b[39m\u001b[39m.\u001b[39mstdout, \u001b[39mself\u001b[39m\u001b[39m.\u001b[39mstderr)):\n",
      "File \u001b[1;32mc:\\Users\\Daniel Aprillio\\AppData\\Local\\Programs\\Python\\Python310\\lib\\subprocess.py:1435\u001b[0m, in \u001b[0;36mPopen._execute_child\u001b[1;34m(self, args, executable, preexec_fn, close_fds, pass_fds, cwd, env, startupinfo, creationflags, shell, p2cread, p2cwrite, c2pread, c2pwrite, errread, errwrite, unused_restore_signals, unused_gid, unused_gids, unused_uid, unused_umask, unused_start_new_session)\u001b[0m\n\u001b[0;32m   <a href='file:///c%3A/Users/Daniel%20Aprillio/AppData/Local/Programs/Python/Python310/lib/subprocess.py?line=1432'>1433</a>\u001b[0m \u001b[39m# Start the process\u001b[39;00m\n\u001b[0;32m   <a href='file:///c%3A/Users/Daniel%20Aprillio/AppData/Local/Programs/Python/Python310/lib/subprocess.py?line=1433'>1434</a>\u001b[0m \u001b[39mtry\u001b[39;00m:\n\u001b[1;32m-> <a href='file:///c%3A/Users/Daniel%20Aprillio/AppData/Local/Programs/Python/Python310/lib/subprocess.py?line=1434'>1435</a>\u001b[0m     hp, ht, pid, tid \u001b[39m=\u001b[39m _winapi\u001b[39m.\u001b[39;49mCreateProcess(executable, args,\n\u001b[0;32m   <a href='file:///c%3A/Users/Daniel%20Aprillio/AppData/Local/Programs/Python/Python310/lib/subprocess.py?line=1435'>1436</a>\u001b[0m                              \u001b[39m# no special security\u001b[39;49;00m\n\u001b[0;32m   <a href='file:///c%3A/Users/Daniel%20Aprillio/AppData/Local/Programs/Python/Python310/lib/subprocess.py?line=1436'>1437</a>\u001b[0m                              \u001b[39mNone\u001b[39;49;00m, \u001b[39mNone\u001b[39;49;00m,\n\u001b[0;32m   <a href='file:///c%3A/Users/Daniel%20Aprillio/AppData/Local/Programs/Python/Python310/lib/subprocess.py?line=1437'>1438</a>\u001b[0m                              \u001b[39mint\u001b[39;49m(\u001b[39mnot\u001b[39;49;00m close_fds),\n\u001b[0;32m   <a href='file:///c%3A/Users/Daniel%20Aprillio/AppData/Local/Programs/Python/Python310/lib/subprocess.py?line=1438'>1439</a>\u001b[0m                              creationflags,\n\u001b[0;32m   <a href='file:///c%3A/Users/Daniel%20Aprillio/AppData/Local/Programs/Python/Python310/lib/subprocess.py?line=1439'>1440</a>\u001b[0m                              env,\n\u001b[0;32m   <a href='file:///c%3A/Users/Daniel%20Aprillio/AppData/Local/Programs/Python/Python310/lib/subprocess.py?line=1440'>1441</a>\u001b[0m                              cwd,\n\u001b[0;32m   <a href='file:///c%3A/Users/Daniel%20Aprillio/AppData/Local/Programs/Python/Python310/lib/subprocess.py?line=1441'>1442</a>\u001b[0m                              startupinfo)\n\u001b[0;32m   <a href='file:///c%3A/Users/Daniel%20Aprillio/AppData/Local/Programs/Python/Python310/lib/subprocess.py?line=1442'>1443</a>\u001b[0m \u001b[39mfinally\u001b[39;00m:\n\u001b[0;32m   <a href='file:///c%3A/Users/Daniel%20Aprillio/AppData/Local/Programs/Python/Python310/lib/subprocess.py?line=1443'>1444</a>\u001b[0m     \u001b[39m# Child is launched. Close the parent's copy of those pipe\u001b[39;00m\n\u001b[0;32m   <a href='file:///c%3A/Users/Daniel%20Aprillio/AppData/Local/Programs/Python/Python310/lib/subprocess.py?line=1444'>1445</a>\u001b[0m     \u001b[39m# handles that only the child should have open.  You need\u001b[39;00m\n\u001b[1;32m   (...)\u001b[0m\n\u001b[0;32m   <a href='file:///c%3A/Users/Daniel%20Aprillio/AppData/Local/Programs/Python/Python310/lib/subprocess.py?line=1447'>1448</a>\u001b[0m     \u001b[39m# pipe will not close when the child process exits and the\u001b[39;00m\n\u001b[0;32m   <a href='file:///c%3A/Users/Daniel%20Aprillio/AppData/Local/Programs/Python/Python310/lib/subprocess.py?line=1448'>1449</a>\u001b[0m     \u001b[39m# ReadFile will hang.\u001b[39;00m\n\u001b[0;32m   <a href='file:///c%3A/Users/Daniel%20Aprillio/AppData/Local/Programs/Python/Python310/lib/subprocess.py?line=1449'>1450</a>\u001b[0m     \u001b[39mself\u001b[39m\u001b[39m.\u001b[39m_close_pipe_fds(p2cread, p2cwrite,\n\u001b[0;32m   <a href='file:///c%3A/Users/Daniel%20Aprillio/AppData/Local/Programs/Python/Python310/lib/subprocess.py?line=1450'>1451</a>\u001b[0m                          c2pread, c2pwrite,\n\u001b[0;32m   <a href='file:///c%3A/Users/Daniel%20Aprillio/AppData/Local/Programs/Python/Python310/lib/subprocess.py?line=1451'>1452</a>\u001b[0m                          errread, errwrite)\n",
      "\u001b[1;31mOSError\u001b[0m: [WinError 740] The requested operation requires elevation"
     ]
    }
   ],
   "source": [
    "# Mention the installed location of Tesseract-OCR in your system\n",
    "pytesseract.pytesseract.tesseract_cmd = './pytesseract/tesseract-ocr-w64-setup-v5.1.0.20220510.exe'\n",
    "# pytesseract.pytesseract.tesseract_cmd = 'c:\\\\~Other_Folder\\\\~IMT_UC_Angkatan_2020\\Semester_4\\\\Artificial Intelegence\\\\Prism-Image-to-Speech\\\\pytesseract\\\\tesseract-ocr-w64-setup-v5.1.0.20220510.exe'\n",
    "\n",
    "# Read image from which text needs to be extracted\n",
    "img = cv2.imread(\"temp.png\")\n",
    "\n",
    "# Preprocessing the image starts\n",
    "\n",
    "# Convert the image to gray scale\n",
    "gray = cv2.cvtColor(img, cv2.COLOR_BGR2GRAY)\n",
    "\n",
    "# Performing OTSU threshold\n",
    "ret, thresh1 = cv2.threshold(\n",
    "    gray, 0, 255, cv2.THRESH_OTSU | cv2.THRESH_BINARY_INV)\n",
    "\n",
    "# Specify structure shape and kernel size.\n",
    "# Kernel size increases or decreases the area\n",
    "# of the rectangle to be detected.\n",
    "# A smaller value like (10, 10) will detect\n",
    "# each word instead of a sentence.\n",
    "rect_kernel = cv2.getStructuringElement(cv2.MORPH_RECT, (10, 10))\n",
    "\n",
    "# Applying dilation on the threshold image\n",
    "dilation = cv2.dilate(thresh1, rect_kernel, iterations=1)\n",
    "\n",
    "# Finding contours\n",
    "contours, hierarchy = cv2.findContours(dilation, cv2.RETR_EXTERNAL,\n",
    "                                       cv2.CHAIN_APPROX_NONE)\n",
    "\n",
    "# Creating a copy of image\n",
    "im2 = img.copy()\n",
    "\n",
    "# A text file is created and flushed\n",
    "file = open(\"recognized.txt\", \"w+\")\n",
    "file.write(\"\")\n",
    "file.close()\n",
    "\n",
    "# Looping through the identified contours\n",
    "# Then rectangular part is cropped and passed on\n",
    "# to pytesseract for extracting text from it\n",
    "# Extracted text is then written into the text file\n",
    "for cnt in contours:\n",
    "    x, y, w, h = cv2.boundingRect(cnt)\n",
    "\n",
    "    # Drawing a rectangle on copied image\n",
    "    rect = cv2.rectangle(im2, (x, y), (x + w, y + h), (0, 255, 0), 2)\n",
    "\n",
    "    # Cropping the text block for giving input to OCR\n",
    "    cropped = im2[y:y + h, x:x + w]\n",
    "\n",
    "    # Open the file in append mode\n",
    "    file = open(\"recognized.txt\", \"a\")\n",
    "\n",
    "    # Apply OCR on the cropped image\n",
    "    text = pytesseract.image_to_string(cropped)\n",
    "\n",
    "    # Appending the text into file\n",
    "    file.write(text)\n",
    "    file.write(\"\\n\")\n",
    "\n",
    "    # Close the file\n",
    "    file.close\n"
   ]
  }
 ],
 "metadata": {
  "interpreter": {
   "hash": "dd80e1185563f5b768986380a68a4802e770e2acf5d8a0567afa6995518253c6"
  },
  "kernelspec": {
   "display_name": "Python 3.10.4 64-bit",
   "language": "python",
   "name": "python3"
  },
  "language_info": {
   "codemirror_mode": {
    "name": "ipython",
    "version": 3
   },
   "file_extension": ".py",
   "mimetype": "text/x-python",
   "name": "python",
   "nbconvert_exporter": "python",
   "pygments_lexer": "ipython3",
   "version": "3.10.4"
  },
  "orig_nbformat": 4
 },
 "nbformat": 4,
 "nbformat_minor": 2
}
