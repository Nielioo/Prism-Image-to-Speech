{
 "cells": [
  {
   "cell_type": "code",
   "execution_count": 2,
   "metadata": {},
   "outputs": [],
   "source": [
    "import cv2\n",
    "import pytesseract\n",
    "from PIL import Image\n",
    "import pathlib"
   ]
  },
  {
   "cell_type": "markdown",
   "metadata": {},
   "source": [
    "## Image to Text"
   ]
  },
  {
   "cell_type": "code",
   "execution_count": 4,
   "metadata": {},
   "outputs": [],
   "source": [
    "# program to capture single image from webcam in python\n",
    "\n",
    "# initialize the camera\n",
    "# If you have multiple camera connected with\n",
    "# current device, assign a value in cam_port\n",
    "# variable according to that\n",
    "cam_port = 0\n",
    "cam = cv2.VideoCapture(cam_port)\n",
    "\n",
    "# reading the input using the camera\n",
    "result, image = cam.read()\n",
    "\n",
    "# If image will detected without any error,\n",
    "# show result\n",
    "if result:\n",
    "\n",
    "    # showing result, it take frame name and image\n",
    "    # output\n",
    "    # cv2.imshow(\"temp\", image)\n",
    "\n",
    "    # saving image in local storage\n",
    "    cv2.imwrite(\"temp.png\", image)\n",
    "\n",
    "    # If keyboard interrupt occurs, destroy image\n",
    "    # window\n",
    "    # cv2.waitKey(0)\n",
    "    # cv2.destroyWindow(\"temp\")\n",
    "\n",
    "# If captured image is corrupted, moving to else part\n",
    "else:\n",
    "    print(\"No image detected. Please! try again\")"
   ]
  },
  {
   "cell_type": "code",
   "execution_count": 5,
   "metadata": {},
   "outputs": [],
   "source": [
    "# camera off\n",
    "cam.release()"
   ]
  },
  {
   "cell_type": "code",
   "execution_count": 24,
   "metadata": {},
   "outputs": [],
   "source": [
    "# Mention the installed location of Tesseract-OCR in your system\n",
    "# punya daniel\n",
    "# pytesseract.pytesseract.tesseract_cmd = 'C:\\\\Program Files\\\\Tesseract-OCR\\\\tesseract.exe'\n",
    "# punya bryan\n",
    "# pytesseract.pytesseract.tesseract_cmd = '/usr/local/Cellar/tesseract/5.1.0/bin/tesseract'\n",
    "# punya anna\n",
    "pytesseract.pytesseract.tesseract_cmd = 'C:\\Program Files\\Tesseract-OCR\\\\tesseract'\n",
    "\n",
    "# Read image from which text needs to be extracted\n",
    "img = cv2.imread(\"temp.png\")\n",
    "\n",
    "# Preprocessing the image starts\n",
    "\n",
    "# Convert the image to gray scale\n",
    "gray = cv2.cvtColor(img, cv2.COLOR_BGR2GRAY)\n",
    "\n",
    "# Performing OTSU threshold\n",
    "ret, thresh1 = cv2.threshold(\n",
    "    gray, 0, 255, cv2.THRESH_OTSU | cv2.THRESH_BINARY_INV)\n",
    "\n",
    "# Specify structure shape and kernel size.\n",
    "# Kernel size increases or decreases the area\n",
    "# of the rectangle to be detected.\n",
    "# A smaller value like (10, 10) will detect\n",
    "# each word instead of a sentence.\n",
    "rect_kernel = cv2.getStructuringElement(cv2.MORPH_RECT, (10, 10))\n",
    "\n",
    "# Applying dilation on the threshold image\n",
    "dilation = cv2.dilate(thresh1, rect_kernel, iterations=1)\n",
    "\n",
    "# Finding contours\n",
    "contours, hierarchy = cv2.findContours(dilation, cv2.RETR_EXTERNAL,\n",
    "                                       cv2.CHAIN_APPROX_NONE)\n",
    "\n",
    "# Creating a copy of image\n",
    "im2 = img.copy()\n",
    "\n",
    "# A text file is created and flushed\n",
    "file = open(\"recognized.txt\", \"w+\")\n",
    "file.write(\"\")\n",
    "file.close()\n",
    "\n",
    "# Looping through the identified contours\n",
    "# Then rectangular part is cropped and passed on\n",
    "# to pytesseract for extracting text from it\n",
    "# Extracted text is then written into the text file\n",
    "for cnt in contours:\n",
    "    x, y, w, h = cv2.boundingRect(cnt)\n",
    "\n",
    "    # Drawing a rectangle on copied image\n",
    "    rect = cv2.rectangle(im2, (x, y), (x + w, y + h), (0, 255, 0), 2)\n",
    "\n",
    "    # Cropping the text block for giving input to OCR\n",
    "    cropped = im2[y:y + h, x:x + w]\n",
    "\n",
    "    # Open the file in append mode\n",
    "    file = open(\"recognized.txt\", \"a\")\n",
    "\n",
    "    # Apply OCR on the cropped image\n",
    "    # text = pytesseract.image_to_string(cropped)\n",
    "    text = \"michael ganteng sekali kata daniel\"\n",
    "\n",
    "    # Appending the text into file\n",
    "    file.write(text)\n",
    "    file.write(\"\\n\")\n",
    "\n",
    "    # Close the file\n",
    "    file.close\n"
   ]
  },
  {
   "cell_type": "markdown",
   "metadata": {},
   "source": [
    "## Text to Speech"
   ]
  },
  {
   "cell_type": "code",
   "execution_count": 19,
   "metadata": {},
   "outputs": [],
   "source": [
    "# import the following libraries\n",
    "# will convert the image to text string\n",
    "# import pytesseract \n",
    "\n",
    "# adds image processing capabilities\n",
    "# from PIL import Image    \n",
    "  \n",
    " # converts the text to speech  \n",
    "import pyttsx3           \n",
    "  \n",
    "#translates into the mentioned language\n",
    "import googletrans"
   ]
  },
  {
   "cell_type": "code",
   "execution_count": 20,
   "metadata": {},
   "outputs": [
    {
     "name": "stdout",
     "output_type": "stream",
     "text": [
      "{'af': 'afrikaans', 'sq': 'albanian', 'am': 'amharic', 'ar': 'arabic', 'hy': 'armenian', 'az': 'azerbaijani', 'eu': 'basque', 'be': 'belarusian', 'bn': 'bengali', 'bs': 'bosnian', 'bg': 'bulgarian', 'ca': 'catalan', 'ceb': 'cebuano', 'ny': 'chichewa', 'zh-cn': 'chinese (simplified)', 'zh-tw': 'chinese (traditional)', 'co': 'corsican', 'hr': 'croatian', 'cs': 'czech', 'da': 'danish', 'nl': 'dutch', 'en': 'english', 'eo': 'esperanto', 'et': 'estonian', 'tl': 'filipino', 'fi': 'finnish', 'fr': 'french', 'fy': 'frisian', 'gl': 'galician', 'ka': 'georgian', 'de': 'german', 'el': 'greek', 'gu': 'gujarati', 'ht': 'haitian creole', 'ha': 'hausa', 'haw': 'hawaiian', 'iw': 'hebrew', 'he': 'hebrew', 'hi': 'hindi', 'hmn': 'hmong', 'hu': 'hungarian', 'is': 'icelandic', 'ig': 'igbo', 'id': 'indonesian', 'ga': 'irish', 'it': 'italian', 'ja': 'japanese', 'jw': 'javanese', 'kn': 'kannada', 'kk': 'kazakh', 'km': 'khmer', 'ko': 'korean', 'ku': 'kurdish (kurmanji)', 'ky': 'kyrgyz', 'lo': 'lao', 'la': 'latin', 'lv': 'latvian', 'lt': 'lithuanian', 'lb': 'luxembourgish', 'mk': 'macedonian', 'mg': 'malagasy', 'ms': 'malay', 'ml': 'malayalam', 'mt': 'maltese', 'mi': 'maori', 'mr': 'marathi', 'mn': 'mongolian', 'my': 'myanmar (burmese)', 'ne': 'nepali', 'no': 'norwegian', 'or': 'odia', 'ps': 'pashto', 'fa': 'persian', 'pl': 'polish', 'pt': 'portuguese', 'pa': 'punjabi', 'ro': 'romanian', 'ru': 'russian', 'sm': 'samoan', 'gd': 'scots gaelic', 'sr': 'serbian', 'st': 'sesotho', 'sn': 'shona', 'sd': 'sindhi', 'si': 'sinhala', 'sk': 'slovak', 'sl': 'slovenian', 'so': 'somali', 'es': 'spanish', 'su': 'sundanese', 'sw': 'swahili', 'sv': 'swedish', 'tg': 'tajik', 'ta': 'tamil', 'te': 'telugu', 'th': 'thai', 'tr': 'turkish', 'uk': 'ukrainian', 'ur': 'urdu', 'ug': 'uyghur', 'uz': 'uzbek', 'vi': 'vietnamese', 'cy': 'welsh', 'xh': 'xhosa', 'yi': 'yiddish', 'yo': 'yoruba', 'zu': 'zulu'}\n"
     ]
    }
   ],
   "source": [
    "print(googletrans.LANGUAGES)"
   ]
  },
  {
   "cell_type": "code",
   "execution_count": 10,
   "metadata": {},
   "outputs": [],
   "source": [
    "# print(googletrans.LANGCODES)"
   ]
  },
  {
   "cell_type": "code",
   "execution_count": 25,
   "metadata": {},
   "outputs": [
    {
     "name": "stdout",
     "output_type": "stream",
     "text": [
      "michael ganteng sekali kata daniel\n"
     ]
    }
   ],
   "source": [
    "\n",
    " # opening an image from the source path\n",
    "# img = Image.open('temp.png')     \n",
    "  \n",
    "# describes image format in the output\n",
    "# print(img)                          \n",
    "# path where the tesseract module is installed\n",
    "# pytesseract.pytesseract.tesseract_cmd = 'C:\\\\Program Files\\\\Tesseract-OCR\\\\tesseract.exe' \n",
    "# converts the image to result and saves it into result variable\n",
    "# result = pytesseract.image_to_string(img)   \n",
    "# write text in a text file and save it to source path   \n",
    "with open('recognized.txt',mode ='w') as file:     \n",
    "      \n",
    "                 file.write(text)\n",
    "                 print(text)\n",
    "                   \n",
    "# p = googletrans.Translator()                      \n",
    "# translates the text into german language\n",
    "# k = p.translate(text,dest='en')      \n",
    "# print(k)\n",
    "engine = pyttsx3.init()\n",
    "  \n",
    "# an audio will be played which speaks the test if pyttsx3 recognizes it\n",
    "engine.say(text)                             \n",
    "engine.runAndWait()"
   ]
  }
 ],
 "metadata": {
  "interpreter": {
   "hash": "5c74798c9a7fb00ec35719401797b7c1e5cccb0fae0b85176d93b522cd4c9900"
  },
  "kernelspec": {
   "display_name": "Python 3.10.2 64-bit",
   "language": "python",
   "name": "python3"
  },
  "language_info": {
   "codemirror_mode": {
    "name": "ipython",
    "version": 3
   },
   "file_extension": ".py",
   "mimetype": "text/x-python",
   "name": "python",
   "nbconvert_exporter": "python",
   "pygments_lexer": "ipython3",
   "version": "3.10.2"
  },
  "orig_nbformat": 4
 },
 "nbformat": 4,
 "nbformat_minor": 2
}
